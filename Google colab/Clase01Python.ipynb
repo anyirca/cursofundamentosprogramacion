{
  "nbformat": 4,
  "nbformat_minor": 0,
  "metadata": {
    "colab": {
      "provenance": []
    },
    "kernelspec": {
      "name": "python3",
      "display_name": "Python 3"
    },
    "language_info": {
      "name": "python"
    }
  },
  "cells": [
    {
      "cell_type": "code",
      "execution_count": null,
      "metadata": {
        "colab": {
          "base_uri": "https://localhost:8080/"
        },
        "id": "OKD5MxhcSy-i",
        "outputId": "f4284797-fa84-48c8-b16b-cbb0891d4bd6"
      },
      "outputs": [
        {
          "output_type": "stream",
          "name": "stdout",
          "text": [
            "hola mundo!!!\n"
          ]
        }
      ],
      "source": [
        "print(\"hola mundo!!!\")"
      ]
    },
    {
      "cell_type": "markdown",
      "source": [
        "Taller # 1"
      ],
      "metadata": {
        "id": "WwQr4sG-mGz8"
      }
    },
    {
      "cell_type": "code",
      "source": [
        "print(\"Por favor digite su numero de identificación\")\n",
        "Numero_de_identificación = input()\n",
        "\n",
        "print(\"Por favor digite Nombre\")\n",
        "Nombre = input()\n",
        "\n",
        "print(\"Por favor digite Apellido\")\n",
        "Apellido = input()\n",
        "\n",
        "print(\"Por favor digite Dirección\")\n",
        "Dirección = input()\n",
        "\n",
        "print(\"Por favor digite telefono\")\n",
        "Telefono = input()\n",
        "\n",
        "print(\"Por favor digite edad\")\n",
        "Edad = input()\n",
        "\n",
        "print(\"Por favor digite estado civil\")\n",
        "Estado_Civil = input()\n",
        "\n",
        "print(\"Por favor digite numero de hijos\")\n",
        "Numero_de_hijos = input()\n",
        "\n",
        "print(\"Por favor digite estatura centimetros\")\n",
        "Estatura_cm = input()\n",
        "\n",
        "print(\"Por favor digite fecha de contaracion dd/mm/aaaa\")\n",
        "Fecha_de_contratación = input()\n",
        "\n",
        "print(\"Por favor digite salario\")\n",
        "Salario = input()\n",
        "\n",
        "print(\"Por favor digite # de dias laborados\")\n",
        "Dias_Laborados = input()\n",
        "\n",
        "print(\"\")\n",
        "print(\"Los datos ingresados son:\")\n",
        "print(\"Numero_de_identificación\" + \" \" + Numero_de_identificación)\n",
        "print(\"Nombre\" + \" \" + Nombre)\n",
        "print(\"Apellido\" + \" \" + Apellido)\n",
        "print(\"Dirección\" + \" \" + Dirección)\n",
        "print(\"Telefono\" + \" \" + Telefono)\n",
        "print(\"Edad\" + \" \" + Edad)\n",
        "print(\"Estado_Civil\" + \" \" + Estado_Civil)\n",
        "print(\"Numero_de_hijos\" + \" \" + Numero_de_hijos)\n",
        "print(\"Estatura_cm\" + \" \" + Estatura_cm)\n",
        "print(\"Fecha_de_contratación\" + \" \" + Fecha_de_contratación)\n",
        "print(\"Salario\" + \" \" + Salario)\n",
        "print(\"Dias_Laborados\" + \" \" + Dias_Laborados)\n"
      ],
      "metadata": {
        "colab": {
          "base_uri": "https://localhost:8080/"
        },
        "id": "BBAF6pPbmI3Z",
        "outputId": "ba05351e-20e2-48cf-88d5-209616a78284"
      },
      "execution_count": null,
      "outputs": [
        {
          "output_type": "stream",
          "name": "stdout",
          "text": [
            "Por favor digite su numero de identificación\n",
            "107666\n",
            "Por favor digite Nombre\n",
            "Angie\n",
            "Por favor digite Apellido\n",
            "Rodriguez\n",
            "Por favor digite Dirección\n",
            "Calle 1 N 8c-120\n",
            "Por favor digite telefono\n",
            "32042300\n",
            "Por favor digite edad\n",
            "29\n",
            "Por favor digite estado civil\n",
            "Casada\n",
            "Por favor digite numero de hijos\n",
            "1\n",
            "Por favor digite estatura centimetros\n",
            "164\n",
            "Por favor digite fecha de contaracion dd/mm/aaaa\n",
            "01/01/2023\n",
            "Por favor digite salario\n",
            "50\n",
            "Por favor digite # de dias laborados\n",
            "48\n",
            "\n",
            "Los datos ingresados son:\n",
            "Numero_de_identificación 107666\n",
            "Nombre Angie\n",
            "Apellido Rodriguez\n",
            "Dirección Calle 1 N 8c-120\n",
            "Telefono 32042300\n",
            "Edad 29\n",
            "Estado_Civil Casada\n",
            "Numero_de_hijos 1\n",
            "Estatura_cm 164\n",
            "Fecha_de_contratación 01/01/2023\n",
            "Salario 50\n",
            "Dias_Laborados 48\n"
          ]
        }
      ]
    },
    {
      "cell_type": "markdown",
      "source": [
        "Taller # 2"
      ],
      "metadata": {
        "id": "xEuoLlGatDyb"
      }
    },
    {
      "cell_type": "markdown",
      "source": [
        "1. Un vendedor recibe un sueldo base más un 10% extra por\n",
        "comisión de sus ventas, el vendedor desea saber cuánto\n",
        "dinero obtendrá por concepto de comisiones por las tres\n",
        "ventas que realiza en el mes y el total que recibirá en\n",
        "el mes tomando en cuenta su sueldo base y comisiones."
      ],
      "metadata": {
        "id": "x9P4Oc4ztHBT"
      }
    },
    {
      "cell_type": "code",
      "source": [
        "#Variable para capturar el sueldo \n",
        "sueldo_base = float(input(\"Digite su sueldo $\"))\n",
        "print(\" \")\n",
        "#Variable para capturar valor de las ventas\n",
        "venta1 = float(input(\"Digite el valor de la venta1 $\"))\n",
        "venta2 = float(input(\"Digite el valor de la venta2 $\"))\n",
        "venta3 = float(input(\"Digite el valor de la venta3 $\"))\n",
        "print(\" \")\n",
        "#Variable para calcular comisión por venta \n",
        "comision1 = venta1 * 0.1 \n",
        "comision2 = venta2 * 0.1\n",
        "comision3 = venta3 * 0.1\n",
        "print(\" \")\n",
        "#Variable calcular comisión total\n",
        "comision_total = comision1 + comision2 + comision3\n",
        "#Valor de sueldo mas comisiones \n",
        "total_recibido = sueldo_base + comision_total\n",
        "#Impresión Variables\n",
        "print(\"El salario base es = ${:,.0f} y la comisión total es = ${:,.0f} el salario total recibido es = ${:,.0f}\".format(sueldo_base, comision_total, total_recibido))"
      ],
      "metadata": {
        "colab": {
          "base_uri": "https://localhost:8080/"
        },
        "id": "7g8OO2iSFytr",
        "outputId": "406f1500-6a65-43f3-e715-91ff4135fdd8"
      },
      "execution_count": null,
      "outputs": [
        {
          "output_type": "stream",
          "name": "stdout",
          "text": [
            "Digite su sueldo $500000\n",
            " \n",
            "Digite el valor de la venta1 $200000\n",
            "Digite el valor de la venta2 $150000\n",
            "Digite el valor de la venta3 $100000\n",
            " \n",
            " \n",
            "El salario base es = $500,000 y la comisión total es = $45,000 el salario total recibido es = $545,000\n"
          ]
        }
      ]
    },
    {
      "cell_type": "markdown",
      "source": [
        "2. Una tienda ofrece un descuento del 15% sobre el total\n",
        "de la compra y un cliente desea saber cuánto deberá\n",
        "pagar finalmente por su compra."
      ],
      "metadata": {
        "id": "j6kj_h2o-emc"
      }
    },
    {
      "cell_type": "code",
      "source": [
        "#Variable precio inicial (sin descuento)\n",
        "precio_full = float(input(\"Digita el precio sin descuento $\"))\n",
        "print(\" \")\n",
        "#Variable % descuento\n",
        "porcentaje_descuento = float(input(\"Digita el % de descuento que quieres aplicar: \"))\n",
        "print(\" \")\n",
        "#Variable descuento float\n",
        "descuento = porcentaje_descuento / 100\n",
        "#Variable precio con descuento\n",
        "precio_final = precio_full - (precio_full * descuento)\n",
        "#Impresión de variables \n",
        "print(\"El precio full es = ${:,.0f} el descuento es = ${:,.0f} el total a cancelar es = ${:,.0f}\".format(precio_full, (precio_full-precio_final), precio_final))"
      ],
      "metadata": {
        "colab": {
          "base_uri": "https://localhost:8080/"
        },
        "id": "8pt4XxpI-jUu",
        "outputId": "78eed948-83de-4bd1-c0d4-eb25c53cab68"
      },
      "execution_count": null,
      "outputs": [
        {
          "output_type": "stream",
          "name": "stdout",
          "text": [
            "Digita el precio sin descuento $800000\n",
            " \n",
            "Digita el % de descuento que quieres aplicar: 15\n",
            " \n",
            "El precio full es = $800,000 el descuento es = $120,000 el total a cancelar es = $680,000\n"
          ]
        }
      ]
    },
    {
      "cell_type": "markdown",
      "source": [
        "3. Un alumno desea saber cuál será su calificación final en\n",
        "la materia de Algoritmos. Dicha calificación se compone\n",
        "de tres exámenes parciales."
      ],
      "metadata": {
        "id": "NmOTp543Bblr"
      }
    },
    {
      "cell_type": "code",
      "source": [
        "#Varible para capturar las calificaciones\n",
        "cal1 = float(input(\"Digite la calificación 1: \"))\n",
        "cal2 = float(input(\"Digite la calificación 2: \"))\n",
        "cal3 = float(input(\"Digite la calificación 3: \"))\n",
        "print(\" \")\n",
        "#Varible promedio\n",
        "prom = round((cal1 + cal2 + cal3) / 3, 2)\n",
        "#Impresión de variables\n",
        "print(f\"El promedio es= {prom}\")"
      ],
      "metadata": {
        "colab": {
          "base_uri": "https://localhost:8080/"
        },
        "id": "Q5td3K5pBi_G",
        "outputId": "9968a8f5-7e07-42c9-b372-9bffc32f475b"
      },
      "execution_count": null,
      "outputs": [
        {
          "output_type": "stream",
          "name": "stdout",
          "text": [
            "Digite la calificación 1: 50\n",
            "Digite la calificación 2: 47\n",
            "Digite la calificación 3: 45\n",
            " \n",
            "El promedio es= 47.33\n"
          ]
        }
      ]
    },
    {
      "cell_type": "markdown",
      "source": [
        "4. Un maestro desea saber qué porcentaje de hombres y que\n",
        "porcentaje de mujeres hay en un grupo de estudiantes."
      ],
      "metadata": {
        "id": "XYBuUhANCCY0"
      }
    },
    {
      "cell_type": "code",
      "source": [
        "#Variables para capturar el # de hombres\n",
        "hombres = float(input(\"Digite el numero de hombres de la clase: \"))\n",
        "print(\" \")\n",
        "#Variable para capturar el # de mujeres\n",
        "mujeres = float(input(\"Digite el numero de mujeres de la clase: \"))\n",
        "print(\" \")\n",
        "#Variable para calcular el # total de estudiantes\n",
        "total_estudiantes = hombres + mujeres\n",
        "#Variables para calcular el % de hombres\n",
        "porcentaje_hombres = (hombres / total_estudiantes) * 100\n",
        "#Variable para caulcular el % de mujeres\n",
        "porcentaje_mujeres = (mujeres / total_estudiantes) * 100\n",
        "#Impresión Variables\n",
        "print(\"El total de estudiantes es {:,.0f}, el porcentaje de hombres es {:,.0f}%, el porcentaje de mujeres es {:,.0f}%\".format(total_estudiantes, porcentaje_hombres, porcentaje_mujeres))"
      ],
      "metadata": {
        "colab": {
          "base_uri": "https://localhost:8080/"
        },
        "id": "-45wAXKaCFeT",
        "outputId": "9b9d890c-e9d7-4e6a-e324-9f03af3c7086"
      },
      "execution_count": null,
      "outputs": [
        {
          "output_type": "stream",
          "name": "stdout",
          "text": [
            "Digite el numero de hombres de la clase: 70\n",
            " \n",
            "Digite el numero de mujeres de la clase: 45\n",
            " \n",
            "El total de estudiantes es 115, el porcentaje de hombres es 61%, el porcentaje de mujeres es 39%\n"
          ]
        }
      ]
    },
    {
      "cell_type": "markdown",
      "source": [
        "Taller # 3 \n",
        "\n",
        "Dando continuidad con la primera entrega del proyecto, en esta oportunidad el estudiante debe realizar las siguientes validaciones utilizando la sentencia condicional IF."
      ],
      "metadata": {
        "id": "__bpNl5EGTK-"
      }
    },
    {
      "cell_type": "markdown",
      "source": [
        "1.Si el empleado es mayor de 55 años disfrutará de un bono de prepensión correspondiente al 5% de su sueldo básico."
      ],
      "metadata": {
        "id": "-QkPxTf5GWqH"
      }
    },
    {
      "cell_type": "code",
      "source": [
        "#Variable para capturar el salario basico\n",
        "salario_basico = float(input(\"Digite el salario basico: $\"))\n",
        "print(\"\")\n",
        "#Variable capturar edad\n",
        "edad = float(input(\"Digite su edad: \"))\n",
        "#Variable % de bono\n",
        "porcentaje_bono = float(input(\"Digita el % del bono que quieres aplicar para empleados >= de 55años: \"))\n",
        "print(\" \")\n",
        "if edad >= 55:\n",
        "  bono = salario_basico * (porcentaje_bono/100)\n",
        "  total_salario_y_bono = salario_basico + bono\n",
        "  print(\"El salario basico es de ${:,.0f} el bono del 5% por ser mayor de 55años es de ${:,.0f} y el valor total a recibir es de ${:,.0f}\".format(salario_basico, bono, total_salario_y_bono)) \n",
        "else:\n",
        "  print(\"Usted no es mayor de 55 por lo tanto no recibira bono y valor depositado es su salario basico correspondiente a ${:,.0f}\".format(salario_basico))"
      ],
      "metadata": {
        "colab": {
          "base_uri": "https://localhost:8080/"
        },
        "id": "0UwHVnDTGfCL",
        "outputId": "d004f933-5e98-47b2-8a26-bdbbe027ed75"
      },
      "execution_count": null,
      "outputs": [
        {
          "output_type": "stream",
          "name": "stdout",
          "text": [
            "Digite el salario basico: $800000\n",
            "\n",
            "Digite su edad: 55\n",
            "Digita el % del bono que quieres aplicar para empleados >= de 55años: 5\n",
            " \n",
            "El salario basico es de $800,000 el bono del 5% por ser mayor de 55años es de $40,000 y el valor total a recibir es de $840,000\n"
          ]
        }
      ]
    },
    {
      "cell_type": "markdown",
      "source": [
        "2. Si el empleado es casado y tiene hijos se le otorgará un paseo cada diciembre"
      ],
      "metadata": {
        "id": "iNebL_OnNSiz"
      }
    },
    {
      "cell_type": "code",
      "source": [
        "#Variable para capturar estado civil \n",
        "estado_civil = input(\"Digite su estado civil: \")\n",
        "#Varibale para capturar N de hijos\n",
        "n_de_hijos = int(input(\"Digite numero de hijos: \"))\n",
        "#Condicional\n",
        "if estado_civil == \"casado\" and n_de_hijos >= 1:\n",
        "  print(\"Tiene derecho a 1 paseo este Diciembre\")\n",
        "else:\n",
        "  print(\"No tiene derecho a paseos\")"
      ],
      "metadata": {
        "colab": {
          "base_uri": "https://localhost:8080/"
        },
        "id": "9baaAV_yNUmd",
        "outputId": "b0b05403-141f-4f45-dd08-3507d1486e64"
      },
      "execution_count": null,
      "outputs": [
        {
          "output_type": "stream",
          "name": "stdout",
          "text": [
            "Digite su estado civil: casado\n",
            "Digite numero de hijos: 2\n",
            "Tiene derecho a 1 paseo este Diciembre\n"
          ]
        }
      ]
    },
    {
      "cell_type": "markdown",
      "source": [
        "3. Si el sueldo básico está entre 1.000.000 y 1.500.000 tendrá una comisión del 2% sobre el valor del sueldo; Si el sueldo básico está entre 1.500.001 y 2.000.000 tendrá una comisión del 5% sobre el valor del sueldo; para todos los demás casos no habrá comisión."
      ],
      "metadata": {
        "id": "pU-GGMrxS-fR"
      }
    },
    {
      "cell_type": "code",
      "source": [
        "#Variable para captura el sueldo basico\n",
        "sueldo_basico = float(input(\"Digite su sueldo basico sin comisiones: $\"))\n",
        "print(\" \")\n",
        "#condicional\n",
        "if sueldo_basico >= 1000000 and sueldo_basico <= 1500000:\n",
        "  comision = sueldo_basico * 0.02\n",
        "  salario_total = sueldo_basico + comision \n",
        "  print(\"El salario es de ${:,.0f}, por lo anterior tiene una comision de ${:,.0f} recibira un total de ${:,.0f}\".format(sueldo_basico, comision, salario_total))\n",
        "elif sueldo_basico >= 1500001 and sueldo_basico <= 2000000:\n",
        "  comision = sueldo_basico * 0.05\n",
        "  salario_total = sueldo_basico + comision \n",
        "  print(\"El salario es de ${:,.0f}, por lo anterior tiene una comision de ${:,.0f} recibira un total de ${:,.0f}\".format(sueldo_basico, comision, salario_total))\n",
        "else:\n",
        "  print(\"El salario es de ${:,.0f} por lo anterior no cuenta con comision\".format(sueldo_basico))"
      ],
      "metadata": {
        "colab": {
          "base_uri": "https://localhost:8080/"
        },
        "id": "m3ZEc21fTDte",
        "outputId": "bcb14872-75f7-476c-9aab-73c8eae13328"
      },
      "execution_count": null,
      "outputs": [
        {
          "output_type": "stream",
          "name": "stdout",
          "text": [
            "Digite su sueldo basico sin comisiones: $1000000\n",
            " \n",
            "El salario es de $1,000,000, por lo anterior tiene una comision de $20,000 recibira un total de $1,020,000\n"
          ]
        }
      ]
    },
    {
      "cell_type": "markdown",
      "source": [
        "4. Si el empleado trabajó más de 20 días al mes y su sueldo es menor a 1000000 tendrá derecho a un bono de alimentación"
      ],
      "metadata": {
        "id": "i6umhr5XZGVt"
      }
    },
    {
      "cell_type": "code",
      "source": [
        "#Variable para capturar el sueldo \n",
        "sueldo = float(input(\"Digite su sueldo: $\"))\n",
        "#Variable para capturar el # de dias w \n",
        "dias_w = int(input(\"Digite el numero de dias w \"))\n",
        "print(\" \")\n",
        "#condicional\n",
        "if sueldo <= 1000000 and dias_w >= 20:\n",
        "  print(\"Por trabajar {} dias del mes y devengar un salario de ${:,.0f} usted tiene derecho a un bono de alimentacion\".format(dias_w, sueldo))\n",
        "else:\n",
        "  print(\"Ustes no tiene derecho a bono de alimentacon\")"
      ],
      "metadata": {
        "colab": {
          "base_uri": "https://localhost:8080/"
        },
        "id": "Uwb0tJl6ZILO",
        "outputId": "4318651b-a32e-4dd5-ec7e-6cd2830f644f"
      },
      "execution_count": null,
      "outputs": [
        {
          "output_type": "stream",
          "name": "stdout",
          "text": [
            "Digite su sueldo: $500000\n",
            "Digite el numero de dias w 30\n",
            " \n",
            "Por trabajar 30 dias del mes y devengar un salario de $500,000 usted tiene derecho a un bono de alimentacion\n"
          ]
        }
      ]
    },
    {
      "cell_type": "markdown",
      "source": [
        "Taller # 4 Integrar Ciclos Repetitivos"
      ],
      "metadata": {
        "id": "-Duc7v9qMhj8"
      }
    },
    {
      "cell_type": "markdown",
      "source": [
        "1. Un grupo de estudiantes desea saber cuál será su calificación final en la materia de Algoritmos. Dicha calificación se compone de tres exámenes parciales"
      ],
      "metadata": {
        "id": "9OzERI2lNB-U"
      }
    },
    {
      "cell_type": "code",
      "source": [
        "#Variable para capturar el número de estudiantes\n",
        "n_estudiantes = int(input(\"Digite el # de estudiantes: \"))\n",
        "print(\" \")\n",
        "\n",
        "#Variable para capturar las calificaciones\n",
        "for i in range(0,n_estudiantes):\n",
        "    #Pregunta para ingresar el nombre del estudiante\n",
        "    pregunta = \"Digite el nombre del estudiante \" + str(i+1) + \": \"\n",
        "    nombre = input(pregunta)\n",
        "\n",
        "    #Preguntas para ingresar las calificaciones del estudiante\n",
        "    cal1 = float(input(\"Digite la calificación 1: \"))\n",
        "    cal2 = float(input(\"Digite la calificación 2: \"))\n",
        "    cal3 = float(input(\"Digite la calificación 3: \"))\n",
        "\n",
        "    #Calculamos el promedio y lo redondeamos a dos decimales\n",
        "    prom = round((cal1 + cal2 + cal3) / 3, 2)\n",
        "\n",
        "    #Mostramos el promedio del estudiante\n",
        "    print(f\"El promedio de {nombre} es= {prom}\")\n",
        "    print(\" \")"
      ],
      "metadata": {
        "colab": {
          "base_uri": "https://localhost:8080/"
        },
        "id": "m8RBN2nIMlEk",
        "outputId": "2ab568d0-1975-4c9b-fb70-536bd737e77f"
      },
      "execution_count": null,
      "outputs": [
        {
          "output_type": "stream",
          "name": "stdout",
          "text": [
            "Digite el # de estudiantes: 2\n",
            " \n",
            "Digite el nombre del estudiante 1: Lina\n",
            "Digite la calificación 1: 20\n",
            "Digite la calificación 2: 50\n",
            "Digite la calificación 3: 30\n",
            "El promedio de Lina es= 33.33\n",
            " \n",
            "Digite el nombre del estudiante 2: Juan\n",
            "Digite la calificación 1: 50\n",
            "Digite la calificación 2: 40\n",
            "Digite la calificación 3: 30\n",
            "El promedio de Juan es= 40.0\n",
            " \n"
          ]
        }
      ]
    },
    {
      "cell_type": "markdown",
      "source": [
        "Un vendedor recibe un sueldo base más un 10% extra por comisión de sus ventas, el vendedor desea saber cuánto dinero obtendrá por concepto de comisiones por las tres ventas que realiza en el mes y el total que recibirá en el mes tomando en cuenta su sueldo base y comisiones.\n",
        "El usuario digita el numero de ventas que realizo durante el mes"
      ],
      "metadata": {
        "id": "rCJN6swKYqz_"
      }
    },
    {
      "cell_type": "code",
      "source": [
        "# Variable para capturar el sueldo \n",
        "sueldo_base = float(input(\"Digite su sueldo $\"))\n",
        "print(\" \")\n",
        "\n",
        "# Variable para contar el número de ventas \n",
        "n_ventas = int(input(\"Digite el # de ventas del mes: \"))\n",
        "sum_ventas = 0\n",
        "print(\" \")\n",
        "\n",
        "# Iteramos sobre el numero de ventas\n",
        "for i in range (0, n_ventas):\n",
        "  # Preguntamos el valor de cada venta\n",
        "  pregunta = \"Digite el valor de la venta \" + str(i + 1) + \": $\"\n",
        "  venta = float(input(pregunta))\n",
        "  # Calculamos el total de ventas \n",
        "  sum_ventas = sum_ventas + venta\n",
        "\n",
        "# Calculamos la comisión total \n",
        "comision_total = sum_ventas * 0.1\n",
        "total_recibido = sueldo_base + comision_total\n",
        "print(\"\")\n",
        "\n",
        "# Imprimimos el salario base, la comision total y el salario total recibido \n",
        "print(\"El salario base es = ${:,.0f} y la comisión total es = ${:,.0f} el salario total recibido es = ${:,.0f}\".format(sueldo_base, comision_total, total_recibido))"
      ],
      "metadata": {
        "colab": {
          "base_uri": "https://localhost:8080/"
        },
        "id": "7xAMSJKqYpyA",
        "outputId": "0a8b21f7-8f73-41dd-cbdb-d0b5e6cf5f9f"
      },
      "execution_count": null,
      "outputs": [
        {
          "output_type": "stream",
          "name": "stdout",
          "text": [
            "Digite su sueldo $2000000\n",
            " \n",
            "Digite el # de ventas del mes: 4\n",
            " \n",
            "Digite el valor de la venta 1: $250000\n",
            "Digite el valor de la venta 2: $390000\n",
            "Digite el valor de la venta 3: $500000\n",
            "Digite el valor de la venta 4: $470000\n",
            "\n",
            "El salario base es = $2,000,000 y la comisión total es = $161,000 el salario total recibido es = $2,161,000\n"
          ]
        }
      ]
    },
    {
      "cell_type": "markdown",
      "source": [
        "Un vendedor recibe un sueldo base más un 10% extra por comisión de sus ventas, el vendedor desea saber cuánto dinero obtendrá por concepto de comisiones por las tres ventas que realiza en el mes y el total que recibirá en el mes tomando en cuenta su sueldo base y comisiones. El usuario digita el numero de ventas que realizo durante el mes. Cuenta con comisión con techo correspondiente al 50% del salario base, quedando como valor final el salario base mas el 50% del salario base.\n",
        "\n"
      ],
      "metadata": {
        "id": "ZTBr6zKGiDyY"
      }
    },
    {
      "cell_type": "code",
      "source": [
        "#Variable para capturar el sueldo \n",
        "sueldo_base = float(input(\"Digite su sueldo $\"))  \n",
        "print(\" \")  \n",
        "\n",
        "ag_venta = \"S\"  # Variable para controlar el loop \n",
        "n_venta = 0   # Variable para contar el número de ventas registradas\n",
        "sum_ventas = 0 # Variable para acumular el total de las ventas\n",
        "comision_total = 0  # Variable para guardar la comisión total basada en el total de ventas del usuario\n",
        "\n",
        "# Ciclo while para registrar una o varias ventas \n",
        "while ag_venta == \"S\":\n",
        "  n_venta = n_venta + 1  # Incrementamos el contador de ventas\n",
        "  pregunta = \"Digite el valor de la venta \" + str(n_venta) + \": $\"  # Preguntamos al usuario el valor de la venta\n",
        "  venta = float(input(pregunta))  # Capturamos la venta ingresada por el usuario\n",
        "  sum_ventas = sum_ventas + venta  # Acummulamos el total de las ventas\n",
        "  comision_total = sum_ventas * 0.1  # Calculamos la comisión del total de las ventas\n",
        "\n",
        "  # Solicitando al usuario si desea ingresar otra venta\n",
        "  ag_venta = input(\"¿Desea agregar otra venta?, Digite S para Si o N para No: \")  \n",
        "\n",
        "print(\" \")  # Salto de línea\n",
        "\n",
        "# Condición que compara si la comisión total es mayor o menor que el 50% del sueldo básico\n",
        "if comision_total <= 0.5 * sueldo_base:\n",
        "  total_recibido = sueldo_base + comision_total\n",
        "  print(\"El salario base es = ${:,.0f} y la comisión total es = ${:,.0f} el salario total recibido es = ${:,.0f}\".format(sueldo_base, comision_total, total_recibido))\n",
        "else:\n",
        "    print(\"Superó el tope de comisiones\")\n",
        "    print(\"El salario total recibido es = ${:,.0f}\".format(sueldo_base + (sueldo_base * 0.5)))\n"
      ],
      "metadata": {
        "colab": {
          "base_uri": "https://localhost:8080/"
        },
        "id": "ET6l4tBpirTb",
        "outputId": "b233b137-6eee-461b-81f0-24ad7d076832"
      },
      "execution_count": null,
      "outputs": [
        {
          "output_type": "stream",
          "name": "stdout",
          "text": [
            "Digite su sueldo $3500000\n",
            " \n",
            "Digite el valor de la venta 1: $420000\n",
            "¿Desea agregar otra venta?, Digite S para Si o N para No: S\n",
            "Digite el valor de la venta 2: $360000\n",
            "¿Desea agregar otra venta?, Digite S para Si o N para No: S\n",
            "Digite el valor de la venta 3: $874000\n",
            "¿Desea agregar otra venta?, Digite S para Si o N para No: S\n",
            "Digite el valor de la venta 4: $100000\n",
            "¿Desea agregar otra venta?, Digite S para Si o N para No: N\n",
            " \n",
            "El salario base es = $3,500,000 y la comisión total es = $175,400 el salario total recibido es = $3,675,400\n"
          ]
        }
      ]
    },
    {
      "cell_type": "code",
      "source": [
        "#Variable para capturar el sueldo \n",
        "sueldo_base = float(input(\"Digite su sueldo $\")) \n",
        "print(\" \")  \n",
        "# Variable para controlar el loop\n",
        "ag_venta = \"S\"  \n",
        "# Variable para contar el número de ventas registradas \n",
        "n_venta = 0  \n",
        "# Variable para acumular el total de las venta \n",
        "sum_ventas = 0 \n",
        "# Variable para guardar la comisión total basada en el total de ventas del usuario\n",
        "comision_total = 0  \n",
        "\n",
        "# Ciclo while para registrar una o varias ventas \n",
        "while ag_venta == \"S\":\n",
        "  n_venta = n_venta + 1  # Incrementamos el contador de ventas\n",
        "  pregunta = \"Digite el valor de la venta \" + str(n_venta) + \": $\"  # Preguntamos al usuario el valor de la venta\n",
        "  venta = float(input(pregunta))  # Capturamos la venta ingresada por el usuario\n",
        "  sum_ventas = sum_ventas + venta  # Acummulamos el total de las ventas\n",
        "  comision_total = sum_ventas * 0.1  # Calculamos la comisión del total de las ventas\n",
        "\n",
        "  # Solicitando al usuario si desea ingresar otra venta\n",
        "  ag_venta = input(\"¿Desea agregar otra venta?, Digite S para Si o N para No: \")  \n",
        "\n",
        "print(\" \")  # Salto de línea\n",
        "\n",
        "# Condición que compara si la comisión total es mayor o menor que el 50% del sueldo básico\n",
        "if comision_total <= 0.5 * sueldo_base:\n",
        "  total_recibido = sueldo_base + comision_total\n",
        "  print(\"El salario base es = ${:,.0f} y la comisión total es = ${:,.0f} el salario total recibido es = ${:,.0f}\".format(sueldo_base, comision_total, total_recibido))\n",
        "else:\n",
        "    print(\"Superó el tope de comisiones\")\n",
        "    print(\"El salario total recibido es = ${:,.0f}\".format(sueldo_base + (sueldo_base * 0.5)))"
      ],
      "metadata": {
        "colab": {
          "base_uri": "https://localhost:8080/"
        },
        "id": "6jJx8kX9o4wr",
        "outputId": "1143cab6-4d5d-4271-8ae7-c400fcacb1e4"
      },
      "execution_count": null,
      "outputs": [
        {
          "output_type": "stream",
          "name": "stdout",
          "text": [
            "Digite su sueldo $2000000\n",
            " \n",
            "Digite el valor de la venta 1: $650000\n",
            "¿Desea agregar otra venta?, Digite S para Si o N para No: S\n",
            "Digite el valor de la venta 2: $320000\n",
            "¿Desea agregar otra venta?, Digite S para Si o N para No: S\n",
            "Digite el valor de la venta 3: $1500000\n",
            "¿Desea agregar otra venta?, Digite S para Si o N para No: S\n",
            "Digite el valor de la venta 4: $896000\n",
            "¿Desea agregar otra venta?, Digite S para Si o N para No: S\n",
            "Digite el valor de la venta 5: $710000\n",
            "¿Desea agregar otra venta?, Digite S para Si o N para No: S\n",
            "Digite el valor de la venta 6: $368000\n",
            "¿Desea agregar otra venta?, Digite S para Si o N para No: S\n",
            "Digite el valor de la venta 7: $500000\n",
            "¿Desea agregar otra venta?, Digite S para Si o N para No: S\n",
            "Digite el valor de la venta 8: $1500000\n",
            "¿Desea agregar otra venta?, Digite S para Si o N para No: S\n",
            "Digite el valor de la venta 9: $5000000\n",
            "¿Desea agregar otra venta?, Digite S para Si o N para No: S\n",
            "Digite el valor de la venta 10: $3420000\n",
            "¿Desea agregar otra venta?, Digite S para Si o N para No: N\n",
            " \n",
            "Superó el tope de comisiones\n",
            "El salario total recibido es = $3,000,000\n"
          ]
        }
      ]
    },
    {
      "cell_type": "markdown",
      "source": [
        "Taller # 5\n",
        "\n",
        "Agregar funciones a los codigos ya desarrollados "
      ],
      "metadata": {
        "id": "-G9-zU5cONsb"
      }
    },
    {
      "cell_type": "markdown",
      "source": [
        "1. Si el empleado es casado y tiene hijos se le otorgará un paseo cada diciembre"
      ],
      "metadata": {
        "id": "b4_K_G2mOymA"
      }
    },
    {
      "cell_type": "code",
      "source": [
        "#Definir función paseo \n",
        "def paseo (nombre_empleado, estado_civil, n_de_hijos):\n",
        "  if estado_civil == \"C\" and n_de_hijos >= 1:\n",
        "    print(\"{} Tiene derecho a 1 paseo este Diciembre\".format(nombre_empleado))\n",
        "  else:\n",
        "    print(\"{} No tiene derecho a paseos\".format(nombre_empleado))\n",
        "\n",
        "#Variable para capturar el nombre del empleado\n",
        "nom_empleado = input(\"Digite su nombre: \")\n",
        "#Variable para capturar estado civil \n",
        "est_civil = input(\"Digite su estado civil: (C para casado, S soltero, V viudo, U union libre) \")\n",
        "#Varibale para capturar N de hijos\n",
        "n_hijos = int(input(\"Digite numero de hijos: \"))\n",
        "\n",
        "paseo(nom_empleado, est_civil, n_hijos)"
      ],
      "metadata": {
        "colab": {
          "base_uri": "https://localhost:8080/"
        },
        "id": "zVdxUrAGOX1-",
        "outputId": "caacde3e-e768-48ef-d9a0-010d429a9164"
      },
      "execution_count": null,
      "outputs": [
        {
          "output_type": "stream",
          "name": "stdout",
          "text": [
            "Digite su nombre: Lina\n",
            "Digite su estado civil: (C para casado, S soltero, V viudo, U union libre) C\n",
            "Digite numero de hijos: 2\n",
            "Lina Tiene derecho a 1 paseo este Diciembre\n"
          ]
        }
      ]
    },
    {
      "cell_type": "markdown",
      "source": [
        "2. Un maestro desea saber qué porcentaje de hombres y que porcentaje de mujeres hay en un grupo de estudiantes."
      ],
      "metadata": {
        "id": "56lTEoUFSh4n"
      }
    },
    {
      "cell_type": "code",
      "source": [
        "#Definir funcion porcentaje\n",
        "def porcentaje(hombres, mujeres):\n",
        "  total_estudiantes = hombres + mujeres\n",
        "  porcentaje_hombres = (hombres / total_estudiantes) * 100\n",
        "  porcentaje_mujeres = (mujeres / total_estudiantes) * 100\n",
        "  print(\"El total de estudiantes es {:,.0f}, el porcentaje de hombres es {:,.0f}%, el porcentaje de mujeres es {:,.0f}%\".format(total_estudiantes, porcentaje_hombres, porcentaje_mujeres))\n",
        "\n",
        "#Variables para capturar el # de hombres\n",
        "men = float(input(\"Digite el numero de hombres de la clase: \"))\n",
        "print(\" \")\n",
        "#Variable para capturar el # de mujeres\n",
        "women = float(input(\"Digite el numero de mujeres de la clase: \"))\n",
        "print(\" \")\n",
        "\n",
        "porcentaje(men, women)"
      ],
      "metadata": {
        "colab": {
          "base_uri": "https://localhost:8080/"
        },
        "id": "W7--UBN2Sitz",
        "outputId": "fcc4be60-a85b-44bc-f8b2-f81edc711ae1"
      },
      "execution_count": null,
      "outputs": [
        {
          "output_type": "stream",
          "name": "stdout",
          "text": [
            "Digite el numero de hombres de la clase: 50\n",
            " \n",
            "Digite el numero de mujeres de la clase: 20\n",
            " \n",
            "El total de estudiantes es 70, el porcentaje de hombres es 71%, el porcentaje de mujeres es 29%\n"
          ]
        }
      ]
    }
  ]
}